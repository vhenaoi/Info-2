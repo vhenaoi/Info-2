{
 "cells": [
  {
   "cell_type": "code",
   "execution_count": 19,
   "metadata": {},
   "outputs": [],
   "source": [
    "class Cosa:\n",
    "    def __init__(self,publico:str, *, protegido: str = \"protegido\",privado:str = \"privado\"):\n",
    "        self.publico = publico\n",
    "        self._protegido = protegido\n",
    "        self.__privado = privado\n",
    "\n",
    "    def informacion(self):\n",
    "        print(\n",
    "            (\n",
    "                f\"Esta es una clase con un atributos publico: {self.publico}, \"\n",
    "                f\"un atributo protegido: {self._protegido}, \"\n",
    "                f\"y un atributo privado: {self.__privado}\"\n",
    "            )\n",
    "        )\n",
    "    def revelar_privado(self):\n",
    "        return f\"El atributo privado es {self.__privado}\"\n"
   ]
  },
  {
   "cell_type": "code",
   "execution_count": 20,
   "metadata": {},
   "outputs": [
    {
     "name": "stdout",
     "output_type": "stream",
     "text": [
      "Esta es una clase con un atributos publico: Publico, un atributo protegido: protegido, y un atributo privado: privado\n"
     ]
    }
   ],
   "source": [
    "cosa = Cosa(\"Publico\")\n",
    "cosa.informacion()"
   ]
  },
  {
   "cell_type": "code",
   "execution_count": 7,
   "metadata": {},
   "outputs": [
    {
     "name": "stdout",
     "output_type": "stream",
     "text": [
      "Publico\n"
     ]
    }
   ],
   "source": [
    "print(cosa.publico)"
   ]
  },
  {
   "cell_type": "code",
   "execution_count": 8,
   "metadata": {},
   "outputs": [
    {
     "name": "stdout",
     "output_type": "stream",
     "text": [
      "protegido\n"
     ]
    }
   ],
   "source": [
    "print(cosa._protegido)"
   ]
  },
  {
   "cell_type": "code",
   "execution_count": 9,
   "metadata": {},
   "outputs": [
    {
     "ename": "AttributeError",
     "evalue": "'Cosa' object has no attribute '__privado'",
     "output_type": "error",
     "traceback": [
      "\u001b[1;31m---------------------------------------------------------------------------\u001b[0m",
      "\u001b[1;31mAttributeError\u001b[0m                            Traceback (most recent call last)",
      "Cell \u001b[1;32mIn[9], line 1\u001b[0m\n\u001b[1;32m----> 1\u001b[0m \u001b[39mprint\u001b[39m(cosa\u001b[39m.\u001b[39;49m__privado)\n",
      "\u001b[1;31mAttributeError\u001b[0m: 'Cosa' object has no attribute '__privado'"
     ]
    }
   ],
   "source": [
    "print(cosa.__privado)"
   ]
  },
  {
   "cell_type": "code",
   "execution_count": 21,
   "metadata": {},
   "outputs": [
    {
     "data": {
      "text/plain": [
       "'El atributo privado es privado'"
      ]
     },
     "execution_count": 21,
     "metadata": {},
     "output_type": "execute_result"
    }
   ],
   "source": [
    "cosa.revelar_privado()"
   ]
  },
  {
   "cell_type": "code",
   "execution_count": 22,
   "metadata": {},
   "outputs": [
    {
     "name": "stdout",
     "output_type": "stream",
     "text": [
      "Esta es una clase con un atributos publico: publico, un atributo protegido: protegido, y un atributo privado: privado\n",
      "Esta clase tiene un atributo publico: publico, un atributo protegido: protegido\n"
     ]
    }
   ],
   "source": [
    "class Algo(Cosa):\n",
    "    def mas_informacion(self):\n",
    "        print(f\"Esta clase tiene un atributo publico: {self.publico}, un atributo protegido: {self._protegido}\")\n",
    "\n",
    "    def usar_privado(self):\n",
    "        return f\"El atributo privado es {self.__privado}\"\n",
    "\n",
    "algo = Algo(\"publico\")\n",
    "algo.informacion()\n",
    "algo.mas_informacion()\n",
    "\n"
   ]
  },
  {
   "cell_type": "code",
   "execution_count": 24,
   "metadata": {},
   "outputs": [
    {
     "ename": "AttributeError",
     "evalue": "'Algo' object has no attribute '_Algo__privado'",
     "output_type": "error",
     "traceback": [
      "\u001b[1;31m---------------------------------------------------------------------------\u001b[0m",
      "\u001b[1;31mAttributeError\u001b[0m                            Traceback (most recent call last)",
      "Cell \u001b[1;32mIn[24], line 1\u001b[0m\n\u001b[1;32m----> 1\u001b[0m algo\u001b[39m.\u001b[39;49musar_privado()\n",
      "Cell \u001b[1;32mIn[22], line 6\u001b[0m, in \u001b[0;36mAlgo.usar_privado\u001b[1;34m(self)\u001b[0m\n\u001b[0;32m      5\u001b[0m \u001b[39mdef\u001b[39;00m \u001b[39musar_privado\u001b[39m(\u001b[39mself\u001b[39m):\n\u001b[1;32m----> 6\u001b[0m     \u001b[39mreturn\u001b[39;00m \u001b[39mf\u001b[39m\u001b[39m\"\u001b[39m\u001b[39mEl atributo privado es \u001b[39m\u001b[39m{\u001b[39;00m\u001b[39mself\u001b[39;49m\u001b[39m.\u001b[39;49m__privado\u001b[39m}\u001b[39;00m\u001b[39m\"\u001b[39m\n",
      "\u001b[1;31mAttributeError\u001b[0m: 'Algo' object has no attribute '_Algo__privado'"
     ]
    }
   ],
   "source": [
    "algo.usar_privado()"
   ]
  },
  {
   "cell_type": "code",
   "execution_count": 23,
   "metadata": {},
   "outputs": [
    {
     "data": {
      "text/plain": [
       "'El atributo privado es privado'"
      ]
     },
     "execution_count": 23,
     "metadata": {},
     "output_type": "execute_result"
    }
   ],
   "source": [
    "algo.revelar_privado()"
   ]
  }
 ],
 "metadata": {
  "kernelspec": {
   "display_name": "Python 3",
   "language": "python",
   "name": "python3"
  },
  "language_info": {
   "codemirror_mode": {
    "name": "ipython",
    "version": 3
   },
   "file_extension": ".py",
   "mimetype": "text/x-python",
   "name": "python",
   "nbconvert_exporter": "python",
   "pygments_lexer": "ipython3",
   "version": "3.9.13"
  },
  "orig_nbformat": 4,
  "vscode": {
   "interpreter": {
    "hash": "24b34aafbd53adba058252c385dd0e7e3899fe22cfe46aa7b7cf3b02665efd00"
   }
  }
 },
 "nbformat": 4,
 "nbformat_minor": 2
}
