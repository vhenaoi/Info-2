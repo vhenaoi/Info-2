{
 "cells": [
  {
   "cell_type": "code",
   "execution_count": 1,
   "metadata": {},
   "outputs": [],
   "source": [
    "import pandas as pd\n",
    "import numpy as np"
   ]
  },
  {
   "cell_type": "code",
   "execution_count": 2,
   "metadata": {},
   "outputs": [],
   "source": [
    "s = pd.Series(np.random.randn(5), index=[\"a\", \"b\", \"c\", \"d\", \"e\"])"
   ]
  },
  {
   "cell_type": "code",
   "execution_count": 3,
   "metadata": {},
   "outputs": [
    {
     "data": {
      "text/plain": [
       "a    0.024189\n",
       "b    0.632000\n",
       "c    0.855481\n",
       "d    0.936630\n",
       "e    0.589812\n",
       "dtype: float64"
      ]
     },
     "execution_count": 3,
     "metadata": {},
     "output_type": "execute_result"
    }
   ],
   "source": [
    "s"
   ]
  },
  {
   "cell_type": "code",
   "execution_count": 4,
   "metadata": {},
   "outputs": [
    {
     "data": {
      "text/plain": [
       "0.024189222029028352"
      ]
     },
     "execution_count": 4,
     "metadata": {},
     "output_type": "execute_result"
    }
   ],
   "source": [
    "s[0]"
   ]
  },
  {
   "cell_type": "code",
   "execution_count": 5,
   "metadata": {},
   "outputs": [
    {
     "data": {
      "text/plain": [
       "a    0.024189\n",
       "b    0.632000\n",
       "c    0.855481\n",
       "dtype: float64"
      ]
     },
     "execution_count": 5,
     "metadata": {},
     "output_type": "execute_result"
    }
   ],
   "source": [
    "s[:3]"
   ]
  },
  {
   "cell_type": "code",
   "execution_count": 6,
   "metadata": {},
   "outputs": [
    {
     "data": {
      "text/plain": [
       "0.6319998588926916"
      ]
     },
     "execution_count": 6,
     "metadata": {},
     "output_type": "execute_result"
    }
   ],
   "source": [
    "s.median()"
   ]
  },
  {
   "cell_type": "code",
   "execution_count": 7,
   "metadata": {},
   "outputs": [
    {
     "data": {
      "text/plain": [
       "c    0.855481\n",
       "d    0.936630\n",
       "dtype: float64"
      ]
     },
     "execution_count": 7,
     "metadata": {},
     "output_type": "execute_result"
    }
   ],
   "source": [
    "s[s > s.median()]"
   ]
  },
  {
   "cell_type": "code",
   "execution_count": 8,
   "metadata": {},
   "outputs": [
    {
     "data": {
      "text/plain": [
       "e    0.589812\n",
       "d    0.936630\n",
       "b    0.632000\n",
       "dtype: float64"
      ]
     },
     "execution_count": 8,
     "metadata": {},
     "output_type": "execute_result"
    }
   ],
   "source": [
    "s[[4, 3, 1]]"
   ]
  },
  {
   "cell_type": "code",
   "execution_count": 9,
   "metadata": {},
   "outputs": [
    {
     "data": {
      "text/plain": [
       "a    1.024484\n",
       "b    1.881369\n",
       "c    2.352505\n",
       "d    2.551368\n",
       "e    1.803649\n",
       "dtype: float64"
      ]
     },
     "execution_count": 9,
     "metadata": {},
     "output_type": "execute_result"
    }
   ],
   "source": [
    "np.exp(s)"
   ]
  },
  {
   "cell_type": "code",
   "execution_count": 10,
   "metadata": {},
   "outputs": [
    {
     "data": {
      "text/plain": [
       "<PandasArray>\n",
       "[0.024189222029028352,   0.6319998588926916,   0.8554809080067005,\n",
       "   0.9366297736759778,   0.5898115866489021]\n",
       "Length: 5, dtype: float64"
      ]
     },
     "execution_count": 10,
     "metadata": {},
     "output_type": "execute_result"
    }
   ],
   "source": [
    "s.array"
   ]
  },
  {
   "cell_type": "code",
   "execution_count": 11,
   "metadata": {},
   "outputs": [
    {
     "data": {
      "text/plain": [
       "<bound method IndexOpsMixin.to_numpy of a    0.024189\n",
       "b    0.632000\n",
       "c    0.855481\n",
       "d    0.936630\n",
       "e    0.589812\n",
       "dtype: float64>"
      ]
     },
     "execution_count": 11,
     "metadata": {},
     "output_type": "execute_result"
    }
   ],
   "source": [
    "s.to_numpy"
   ]
  },
  {
   "cell_type": "code",
   "execution_count": 12,
   "metadata": {},
   "outputs": [
    {
     "data": {
      "text/plain": [
       "0.5898115866489021"
      ]
     },
     "execution_count": 12,
     "metadata": {},
     "output_type": "execute_result"
    }
   ],
   "source": [
    "s[-1]"
   ]
  },
  {
   "cell_type": "code",
   "execution_count": 13,
   "metadata": {},
   "outputs": [
    {
     "data": {
      "text/plain": [
       "a         NaN\n",
       "b    1.264000\n",
       "c    1.710962\n",
       "d    1.873260\n",
       "e         NaN\n",
       "dtype: float64"
      ]
     },
     "execution_count": 13,
     "metadata": {},
     "output_type": "execute_result"
    }
   ],
   "source": [
    "s[1:] + s[:-1] #Sin tomar el valor cero y hasta el ultimo valor sin incluirlo "
   ]
  },
  {
   "cell_type": "code",
   "execution_count": 14,
   "metadata": {},
   "outputs": [
    {
     "data": {
      "text/plain": [
       "b    1.264000\n",
       "c    1.710962\n",
       "d    1.873260\n",
       "dtype: float64"
      ]
     },
     "execution_count": 14,
     "metadata": {},
     "output_type": "execute_result"
    }
   ],
   "source": [
    "withnan = s[1:] + s[:-1]\n",
    "withaoutnan = withnan.dropna()\n",
    "withaoutnan"
   ]
  },
  {
   "cell_type": "code",
   "execution_count": 15,
   "metadata": {},
   "outputs": [],
   "source": [
    "import os\n",
    "import glob"
   ]
  },
  {
   "cell_type": "code",
   "execution_count": 16,
   "metadata": {},
   "outputs": [],
   "source": [
    "current = os.getcwd()"
   ]
  },
  {
   "cell_type": "code",
   "execution_count": 17,
   "metadata": {},
   "outputs": [
    {
     "data": {
      "text/plain": [
       "'e:\\\\Academico\\\\Universidad\\\\Cursos\\\\Repositorios\\\\Info-2'"
      ]
     },
     "execution_count": 17,
     "metadata": {},
     "output_type": "execute_result"
    }
   ],
   "source": [
    "current "
   ]
  },
  {
   "cell_type": "code",
   "execution_count": 18,
   "metadata": {},
   "outputs": [],
   "source": [
    "file = glob.glob(current+'/*.csv')"
   ]
  },
  {
   "cell_type": "code",
   "execution_count": 19,
   "metadata": {},
   "outputs": [
    {
     "data": {
      "text/plain": [
       "['e:\\\\Academico\\\\Universidad\\\\Cursos\\\\Repositorios\\\\Info-2\\\\MMSE.csv']"
      ]
     },
     "execution_count": 19,
     "metadata": {},
     "output_type": "execute_result"
    }
   ],
   "source": [
    "file"
   ]
  },
  {
   "cell_type": "code",
   "execution_count": 20,
   "metadata": {},
   "outputs": [],
   "source": [
    "mmse =pd.read_csv(r'e:\\\\Academico\\\\Universidad\\\\Cursos\\\\Repositorios\\\\Info-2\\\\MMSE.csv',sep=';')"
   ]
  },
  {
   "cell_type": "code",
   "execution_count": 21,
   "metadata": {},
   "outputs": [],
   "source": [
    "mmse =pd.read_csv(file[0],sep=';')"
   ]
  },
  {
   "cell_type": "code",
   "execution_count": 22,
   "metadata": {},
   "outputs": [
    {
     "data": {
      "text/html": [
       "<div>\n",
       "<style scoped>\n",
       "    .dataframe tbody tr th:only-of-type {\n",
       "        vertical-align: middle;\n",
       "    }\n",
       "\n",
       "    .dataframe tbody tr th {\n",
       "        vertical-align: top;\n",
       "    }\n",
       "\n",
       "    .dataframe thead th {\n",
       "        text-align: right;\n",
       "    }\n",
       "</style>\n",
       "<table border=\"1\" class=\"dataframe\">\n",
       "  <thead>\n",
       "    <tr style=\"text-align: right;\">\n",
       "      <th></th>\n",
       "      <th>Codigo</th>\n",
       "      <th>Edad en la visita</th>\n",
       "      <th>Sexo</th>\n",
       "      <th>Escolaridad</th>\n",
       "      <th>Orientacion y Tiempo</th>\n",
       "      <th>Orientacion y Lugar</th>\n",
       "      <th>Memoria de fijacion</th>\n",
       "      <th>Atencion</th>\n",
       "      <th>Memoria de Evocacion</th>\n",
       "      <th>Lenguaje</th>\n",
       "      <th>Total</th>\n",
       "    </tr>\n",
       "  </thead>\n",
       "  <tbody>\n",
       "    <tr>\n",
       "      <th>0</th>\n",
       "      <td>CTR_001</td>\n",
       "      <td>56</td>\n",
       "      <td>Femenino</td>\n",
       "      <td>6</td>\n",
       "      <td>5</td>\n",
       "      <td>4</td>\n",
       "      <td>3</td>\n",
       "      <td>4</td>\n",
       "      <td>2</td>\n",
       "      <td>9</td>\n",
       "      <td>27</td>\n",
       "    </tr>\n",
       "    <tr>\n",
       "      <th>1</th>\n",
       "      <td>CTR_002</td>\n",
       "      <td>53</td>\n",
       "      <td>Femenino</td>\n",
       "      <td>3</td>\n",
       "      <td>5</td>\n",
       "      <td>5</td>\n",
       "      <td>3</td>\n",
       "      <td>5</td>\n",
       "      <td>3</td>\n",
       "      <td>9</td>\n",
       "      <td>30</td>\n",
       "    </tr>\n",
       "    <tr>\n",
       "      <th>2</th>\n",
       "      <td>CTR_003</td>\n",
       "      <td>56</td>\n",
       "      <td>Masculino</td>\n",
       "      <td>16</td>\n",
       "      <td>5</td>\n",
       "      <td>5</td>\n",
       "      <td>3</td>\n",
       "      <td>5</td>\n",
       "      <td>3</td>\n",
       "      <td>8</td>\n",
       "      <td>29</td>\n",
       "    </tr>\n",
       "    <tr>\n",
       "      <th>3</th>\n",
       "      <td>CTR_004</td>\n",
       "      <td>47</td>\n",
       "      <td>Femenino</td>\n",
       "      <td>11</td>\n",
       "      <td>5</td>\n",
       "      <td>5</td>\n",
       "      <td>3</td>\n",
       "      <td>3</td>\n",
       "      <td>3</td>\n",
       "      <td>8</td>\n",
       "      <td>27</td>\n",
       "    </tr>\n",
       "    <tr>\n",
       "      <th>4</th>\n",
       "      <td>CTR_005</td>\n",
       "      <td>60</td>\n",
       "      <td>Femenino</td>\n",
       "      <td>5</td>\n",
       "      <td>4</td>\n",
       "      <td>5</td>\n",
       "      <td>3</td>\n",
       "      <td>5</td>\n",
       "      <td>2</td>\n",
       "      <td>8</td>\n",
       "      <td>27</td>\n",
       "    </tr>\n",
       "    <tr>\n",
       "      <th>5</th>\n",
       "      <td>CTR_006</td>\n",
       "      <td>63</td>\n",
       "      <td>Masculino</td>\n",
       "      <td>5</td>\n",
       "      <td>5</td>\n",
       "      <td>5</td>\n",
       "      <td>3</td>\n",
       "      <td>5</td>\n",
       "      <td>2</td>\n",
       "      <td>9</td>\n",
       "      <td>29</td>\n",
       "    </tr>\n",
       "    <tr>\n",
       "      <th>6</th>\n",
       "      <td>CTR_007</td>\n",
       "      <td>48</td>\n",
       "      <td>Femenino</td>\n",
       "      <td>11</td>\n",
       "      <td>5</td>\n",
       "      <td>5</td>\n",
       "      <td>3</td>\n",
       "      <td>4</td>\n",
       "      <td>2</td>\n",
       "      <td>9</td>\n",
       "      <td>28</td>\n",
       "    </tr>\n",
       "    <tr>\n",
       "      <th>7</th>\n",
       "      <td>CTR_008</td>\n",
       "      <td>55</td>\n",
       "      <td>Masculino</td>\n",
       "      <td>14</td>\n",
       "      <td>5</td>\n",
       "      <td>5</td>\n",
       "      <td>3</td>\n",
       "      <td>5</td>\n",
       "      <td>2</td>\n",
       "      <td>9</td>\n",
       "      <td>29</td>\n",
       "    </tr>\n",
       "    <tr>\n",
       "      <th>8</th>\n",
       "      <td>CTR_009</td>\n",
       "      <td>39</td>\n",
       "      <td>Femenino</td>\n",
       "      <td>16</td>\n",
       "      <td>5</td>\n",
       "      <td>5</td>\n",
       "      <td>3</td>\n",
       "      <td>5</td>\n",
       "      <td>3</td>\n",
       "      <td>9</td>\n",
       "      <td>30</td>\n",
       "    </tr>\n",
       "    <tr>\n",
       "      <th>9</th>\n",
       "      <td>CTR_010</td>\n",
       "      <td>49</td>\n",
       "      <td>Masculino</td>\n",
       "      <td>13</td>\n",
       "      <td>5</td>\n",
       "      <td>5</td>\n",
       "      <td>3</td>\n",
       "      <td>5</td>\n",
       "      <td>3</td>\n",
       "      <td>9</td>\n",
       "      <td>30</td>\n",
       "    </tr>\n",
       "    <tr>\n",
       "      <th>10</th>\n",
       "      <td>CTR_011</td>\n",
       "      <td>56</td>\n",
       "      <td>Masculino</td>\n",
       "      <td>6</td>\n",
       "      <td>5</td>\n",
       "      <td>3</td>\n",
       "      <td>3</td>\n",
       "      <td>4</td>\n",
       "      <td>2</td>\n",
       "      <td>8</td>\n",
       "      <td>25</td>\n",
       "    </tr>\n",
       "    <tr>\n",
       "      <th>11</th>\n",
       "      <td>CTR_012</td>\n",
       "      <td>62</td>\n",
       "      <td>Masculino</td>\n",
       "      <td>4</td>\n",
       "      <td>5</td>\n",
       "      <td>5</td>\n",
       "      <td>3</td>\n",
       "      <td>0</td>\n",
       "      <td>3</td>\n",
       "      <td>9</td>\n",
       "      <td>25</td>\n",
       "    </tr>\n",
       "    <tr>\n",
       "      <th>12</th>\n",
       "      <td>CTR_013</td>\n",
       "      <td>40</td>\n",
       "      <td>Femenino</td>\n",
       "      <td>11</td>\n",
       "      <td>5</td>\n",
       "      <td>5</td>\n",
       "      <td>3</td>\n",
       "      <td>5</td>\n",
       "      <td>3</td>\n",
       "      <td>9</td>\n",
       "      <td>30</td>\n",
       "    </tr>\n",
       "    <tr>\n",
       "      <th>13</th>\n",
       "      <td>CTR_014</td>\n",
       "      <td>53</td>\n",
       "      <td>Masculino</td>\n",
       "      <td>11</td>\n",
       "      <td>5</td>\n",
       "      <td>5</td>\n",
       "      <td>3</td>\n",
       "      <td>4</td>\n",
       "      <td>0</td>\n",
       "      <td>9</td>\n",
       "      <td>26</td>\n",
       "    </tr>\n",
       "    <tr>\n",
       "      <th>14</th>\n",
       "      <td>CTR_015</td>\n",
       "      <td>43</td>\n",
       "      <td>Femenino</td>\n",
       "      <td>4</td>\n",
       "      <td>5</td>\n",
       "      <td>5</td>\n",
       "      <td>3</td>\n",
       "      <td>3</td>\n",
       "      <td>3</td>\n",
       "      <td>8</td>\n",
       "      <td>27</td>\n",
       "    </tr>\n",
       "    <tr>\n",
       "      <th>15</th>\n",
       "      <td>CTR_016</td>\n",
       "      <td>64</td>\n",
       "      <td>Femenino</td>\n",
       "      <td>7</td>\n",
       "      <td>5</td>\n",
       "      <td>4</td>\n",
       "      <td>3</td>\n",
       "      <td>3</td>\n",
       "      <td>3</td>\n",
       "      <td>9</td>\n",
       "      <td>27</td>\n",
       "    </tr>\n",
       "    <tr>\n",
       "      <th>16</th>\n",
       "      <td>CTR_017</td>\n",
       "      <td>45</td>\n",
       "      <td>Masculino</td>\n",
       "      <td>9</td>\n",
       "      <td>5</td>\n",
       "      <td>5</td>\n",
       "      <td>3</td>\n",
       "      <td>4</td>\n",
       "      <td>3</td>\n",
       "      <td>9</td>\n",
       "      <td>29</td>\n",
       "    </tr>\n",
       "    <tr>\n",
       "      <th>17</th>\n",
       "      <td>CTR_018</td>\n",
       "      <td>60</td>\n",
       "      <td>Femenino</td>\n",
       "      <td>6</td>\n",
       "      <td>4</td>\n",
       "      <td>5</td>\n",
       "      <td>3</td>\n",
       "      <td>5</td>\n",
       "      <td>3</td>\n",
       "      <td>9</td>\n",
       "      <td>29</td>\n",
       "    </tr>\n",
       "    <tr>\n",
       "      <th>18</th>\n",
       "      <td>CTR_019</td>\n",
       "      <td>50</td>\n",
       "      <td>Femenino</td>\n",
       "      <td>3</td>\n",
       "      <td>5</td>\n",
       "      <td>5</td>\n",
       "      <td>3</td>\n",
       "      <td>5</td>\n",
       "      <td>3</td>\n",
       "      <td>9</td>\n",
       "      <td>30</td>\n",
       "    </tr>\n",
       "    <tr>\n",
       "      <th>19</th>\n",
       "      <td>CTR_020</td>\n",
       "      <td>45</td>\n",
       "      <td>Femenino</td>\n",
       "      <td>11</td>\n",
       "      <td>5</td>\n",
       "      <td>5</td>\n",
       "      <td>3</td>\n",
       "      <td>5</td>\n",
       "      <td>3</td>\n",
       "      <td>9</td>\n",
       "      <td>30</td>\n",
       "    </tr>\n",
       "    <tr>\n",
       "      <th>20</th>\n",
       "      <td>CTR_021</td>\n",
       "      <td>44</td>\n",
       "      <td>Masculino</td>\n",
       "      <td>12</td>\n",
       "      <td>5</td>\n",
       "      <td>5</td>\n",
       "      <td>3</td>\n",
       "      <td>5</td>\n",
       "      <td>2</td>\n",
       "      <td>9</td>\n",
       "      <td>29</td>\n",
       "    </tr>\n",
       "    <tr>\n",
       "      <th>21</th>\n",
       "      <td>CTR_022</td>\n",
       "      <td>40</td>\n",
       "      <td>Masculino</td>\n",
       "      <td>2</td>\n",
       "      <td>5</td>\n",
       "      <td>5</td>\n",
       "      <td>3</td>\n",
       "      <td>3</td>\n",
       "      <td>3</td>\n",
       "      <td>9</td>\n",
       "      <td>28</td>\n",
       "    </tr>\n",
       "    <tr>\n",
       "      <th>22</th>\n",
       "      <td>CTR_023</td>\n",
       "      <td>49</td>\n",
       "      <td>Masculino</td>\n",
       "      <td>12</td>\n",
       "      <td>5</td>\n",
       "      <td>5</td>\n",
       "      <td>3</td>\n",
       "      <td>5</td>\n",
       "      <td>3</td>\n",
       "      <td>9</td>\n",
       "      <td>30</td>\n",
       "    </tr>\n",
       "  </tbody>\n",
       "</table>\n",
       "</div>"
      ],
      "text/plain": [
       "     Codigo  Edad en la visita       Sexo  Escolaridad  Orientacion y Tiempo  \\\n",
       "0   CTR_001                 56   Femenino            6                     5   \n",
       "1   CTR_002                 53   Femenino            3                     5   \n",
       "2   CTR_003                 56  Masculino           16                     5   \n",
       "3   CTR_004                 47   Femenino           11                     5   \n",
       "4   CTR_005                 60   Femenino            5                     4   \n",
       "5   CTR_006                 63  Masculino            5                     5   \n",
       "6   CTR_007                 48   Femenino           11                     5   \n",
       "7   CTR_008                 55  Masculino           14                     5   \n",
       "8   CTR_009                 39   Femenino           16                     5   \n",
       "9   CTR_010                 49  Masculino           13                     5   \n",
       "10  CTR_011                 56  Masculino            6                     5   \n",
       "11  CTR_012                 62  Masculino            4                     5   \n",
       "12  CTR_013                 40   Femenino           11                     5   \n",
       "13  CTR_014                 53  Masculino           11                     5   \n",
       "14  CTR_015                 43   Femenino            4                     5   \n",
       "15  CTR_016                 64   Femenino            7                     5   \n",
       "16  CTR_017                 45  Masculino            9                     5   \n",
       "17  CTR_018                 60   Femenino            6                     4   \n",
       "18  CTR_019                 50   Femenino            3                     5   \n",
       "19  CTR_020                 45   Femenino           11                     5   \n",
       "20  CTR_021                 44  Masculino           12                     5   \n",
       "21  CTR_022                 40  Masculino            2                     5   \n",
       "22  CTR_023                 49  Masculino           12                     5   \n",
       "\n",
       "    Orientacion y Lugar  Memoria de fijacion  Atencion  Memoria de Evocacion  \\\n",
       "0                     4                    3         4                     2   \n",
       "1                     5                    3         5                     3   \n",
       "2                     5                    3         5                     3   \n",
       "3                     5                    3         3                     3   \n",
       "4                     5                    3         5                     2   \n",
       "5                     5                    3         5                     2   \n",
       "6                     5                    3         4                     2   \n",
       "7                     5                    3         5                     2   \n",
       "8                     5                    3         5                     3   \n",
       "9                     5                    3         5                     3   \n",
       "10                    3                    3         4                     2   \n",
       "11                    5                    3         0                     3   \n",
       "12                    5                    3         5                     3   \n",
       "13                    5                    3         4                     0   \n",
       "14                    5                    3         3                     3   \n",
       "15                    4                    3         3                     3   \n",
       "16                    5                    3         4                     3   \n",
       "17                    5                    3         5                     3   \n",
       "18                    5                    3         5                     3   \n",
       "19                    5                    3         5                     3   \n",
       "20                    5                    3         5                     2   \n",
       "21                    5                    3         3                     3   \n",
       "22                    5                    3         5                     3   \n",
       "\n",
       "    Lenguaje  Total  \n",
       "0          9     27  \n",
       "1          9     30  \n",
       "2          8     29  \n",
       "3          8     27  \n",
       "4          8     27  \n",
       "5          9     29  \n",
       "6          9     28  \n",
       "7          9     29  \n",
       "8          9     30  \n",
       "9          9     30  \n",
       "10         8     25  \n",
       "11         9     25  \n",
       "12         9     30  \n",
       "13         9     26  \n",
       "14         8     27  \n",
       "15         9     27  \n",
       "16         9     29  \n",
       "17         9     29  \n",
       "18         9     30  \n",
       "19         9     30  \n",
       "20         9     29  \n",
       "21         9     28  \n",
       "22         9     30  "
      ]
     },
     "execution_count": 22,
     "metadata": {},
     "output_type": "execute_result"
    }
   ],
   "source": [
    "mmse"
   ]
  },
  {
   "cell_type": "code",
   "execution_count": 23,
   "metadata": {},
   "outputs": [
    {
     "data": {
      "text/plain": [
       "253"
      ]
     },
     "execution_count": 23,
     "metadata": {},
     "output_type": "execute_result"
    }
   ],
   "source": [
    "mmse.size"
   ]
  },
  {
   "cell_type": "code",
   "execution_count": 24,
   "metadata": {},
   "outputs": [
    {
     "data": {
      "text/plain": [
       "(23, 11)"
      ]
     },
     "execution_count": 24,
     "metadata": {},
     "output_type": "execute_result"
    }
   ],
   "source": [
    "mmse.shape"
   ]
  },
  {
   "cell_type": "code",
   "execution_count": 25,
   "metadata": {},
   "outputs": [
    {
     "data": {
      "text/plain": [
       "Index(['Codigo', 'Edad en la visita', 'Sexo', 'Escolaridad',\n",
       "       'Orientacion y Tiempo', 'Orientacion y Lugar', 'Memoria de fijacion',\n",
       "       'Atencion', 'Memoria de Evocacion', 'Lenguaje', 'Total'],\n",
       "      dtype='object')"
      ]
     },
     "execution_count": 25,
     "metadata": {},
     "output_type": "execute_result"
    }
   ],
   "source": [
    "mmse.columns"
   ]
  },
  {
   "cell_type": "code",
   "execution_count": 26,
   "metadata": {},
   "outputs": [
    {
     "data": {
      "text/plain": [
       "0      Femenino\n",
       "1      Femenino\n",
       "2     Masculino\n",
       "3      Femenino\n",
       "4      Femenino\n",
       "5     Masculino\n",
       "6      Femenino\n",
       "7     Masculino\n",
       "8      Femenino\n",
       "9     Masculino\n",
       "10    Masculino\n",
       "11    Masculino\n",
       "12     Femenino\n",
       "13    Masculino\n",
       "14     Femenino\n",
       "15     Femenino\n",
       "16    Masculino\n",
       "17     Femenino\n",
       "18     Femenino\n",
       "19     Femenino\n",
       "20    Masculino\n",
       "21    Masculino\n",
       "22    Masculino\n",
       "Name: Sexo, dtype: object"
      ]
     },
     "execution_count": 26,
     "metadata": {},
     "output_type": "execute_result"
    }
   ],
   "source": [
    "mmse['Sexo']"
   ]
  },
  {
   "cell_type": "code",
   "execution_count": 27,
   "metadata": {},
   "outputs": [
    {
     "data": {
      "text/plain": [
       "count    23.000000\n",
       "mean      8.608696\n",
       "std       4.303689\n",
       "min       2.000000\n",
       "25%       5.000000\n",
       "50%       9.000000\n",
       "75%      11.500000\n",
       "max      16.000000\n",
       "Name: Escolaridad, dtype: float64"
      ]
     },
     "execution_count": 27,
     "metadata": {},
     "output_type": "execute_result"
    }
   ],
   "source": [
    "mmse['Escolaridad'].describe()"
   ]
  },
  {
   "cell_type": "code",
   "execution_count": 28,
   "metadata": {},
   "outputs": [
    {
     "data": {
      "text/plain": [
       "Codigo                   CTR_001\n",
       "Edad en la visita             56\n",
       "Sexo                    Femenino\n",
       "Escolaridad                    6\n",
       "Orientacion y Tiempo           5\n",
       "Orientacion y Lugar            4\n",
       "Memoria de fijacion            3\n",
       "Atencion                       4\n",
       "Memoria de Evocacion           2\n",
       "Lenguaje                       9\n",
       "Total                         27\n",
       "Name: 0, dtype: object"
      ]
     },
     "execution_count": 28,
     "metadata": {},
     "output_type": "execute_result"
    }
   ],
   "source": [
    "mmse.loc[0]"
   ]
  },
  {
   "cell_type": "code",
   "execution_count": 29,
   "metadata": {},
   "outputs": [],
   "source": [
    "mmse_copy = mmse.copy()"
   ]
  },
  {
   "cell_type": "code",
   "execution_count": 30,
   "metadata": {},
   "outputs": [],
   "source": [
    "mmse_copy=mmse_copy.reset_index()"
   ]
  },
  {
   "cell_type": "code",
   "execution_count": 31,
   "metadata": {},
   "outputs": [
    {
     "data": {
      "text/plain": [
       "Index(['index', 'Codigo', 'Edad en la visita', 'Sexo', 'Escolaridad',\n",
       "       'Orientacion y Tiempo', 'Orientacion y Lugar', 'Memoria de fijacion',\n",
       "       'Atencion', 'Memoria de Evocacion', 'Lenguaje', 'Total'],\n",
       "      dtype='object')"
      ]
     },
     "execution_count": 31,
     "metadata": {},
     "output_type": "execute_result"
    }
   ],
   "source": [
    "mmse_copy.columns"
   ]
  },
  {
   "cell_type": "code",
   "execution_count": 32,
   "metadata": {},
   "outputs": [],
   "source": [
    "mmse_copy = mmse_copy.drop(['index'], axis=1)"
   ]
  },
  {
   "cell_type": "code",
   "execution_count": 33,
   "metadata": {},
   "outputs": [],
   "source": [
    "#del mmse_copy['index']"
   ]
  },
  {
   "cell_type": "code",
   "execution_count": 34,
   "metadata": {},
   "outputs": [
    {
     "data": {
      "text/html": [
       "<div>\n",
       "<style scoped>\n",
       "    .dataframe tbody tr th:only-of-type {\n",
       "        vertical-align: middle;\n",
       "    }\n",
       "\n",
       "    .dataframe tbody tr th {\n",
       "        vertical-align: top;\n",
       "    }\n",
       "\n",
       "    .dataframe thead th {\n",
       "        text-align: right;\n",
       "    }\n",
       "</style>\n",
       "<table border=\"1\" class=\"dataframe\">\n",
       "  <thead>\n",
       "    <tr style=\"text-align: right;\">\n",
       "      <th></th>\n",
       "      <th>Codigo</th>\n",
       "      <th>Edad en la visita</th>\n",
       "      <th>Sexo</th>\n",
       "      <th>Escolaridad</th>\n",
       "      <th>Orientacion y Tiempo</th>\n",
       "      <th>Orientacion y Lugar</th>\n",
       "      <th>Memoria de fijacion</th>\n",
       "      <th>Atencion</th>\n",
       "      <th>Memoria de Evocacion</th>\n",
       "      <th>Lenguaje</th>\n",
       "      <th>Total</th>\n",
       "    </tr>\n",
       "  </thead>\n",
       "  <tbody>\n",
       "    <tr>\n",
       "      <th>0</th>\n",
       "      <td>CTR_001</td>\n",
       "      <td>56</td>\n",
       "      <td>Femenino</td>\n",
       "      <td>6</td>\n",
       "      <td>5</td>\n",
       "      <td>4</td>\n",
       "      <td>3</td>\n",
       "      <td>4</td>\n",
       "      <td>2</td>\n",
       "      <td>9</td>\n",
       "      <td>27</td>\n",
       "    </tr>\n",
       "    <tr>\n",
       "      <th>1</th>\n",
       "      <td>CTR_002</td>\n",
       "      <td>53</td>\n",
       "      <td>Femenino</td>\n",
       "      <td>3</td>\n",
       "      <td>5</td>\n",
       "      <td>5</td>\n",
       "      <td>3</td>\n",
       "      <td>5</td>\n",
       "      <td>3</td>\n",
       "      <td>9</td>\n",
       "      <td>30</td>\n",
       "    </tr>\n",
       "    <tr>\n",
       "      <th>2</th>\n",
       "      <td>CTR_003</td>\n",
       "      <td>56</td>\n",
       "      <td>Masculino</td>\n",
       "      <td>16</td>\n",
       "      <td>5</td>\n",
       "      <td>5</td>\n",
       "      <td>3</td>\n",
       "      <td>5</td>\n",
       "      <td>3</td>\n",
       "      <td>8</td>\n",
       "      <td>29</td>\n",
       "    </tr>\n",
       "    <tr>\n",
       "      <th>3</th>\n",
       "      <td>CTR_004</td>\n",
       "      <td>47</td>\n",
       "      <td>Femenino</td>\n",
       "      <td>11</td>\n",
       "      <td>5</td>\n",
       "      <td>5</td>\n",
       "      <td>3</td>\n",
       "      <td>3</td>\n",
       "      <td>3</td>\n",
       "      <td>8</td>\n",
       "      <td>27</td>\n",
       "    </tr>\n",
       "    <tr>\n",
       "      <th>4</th>\n",
       "      <td>CTR_005</td>\n",
       "      <td>60</td>\n",
       "      <td>Femenino</td>\n",
       "      <td>5</td>\n",
       "      <td>4</td>\n",
       "      <td>5</td>\n",
       "      <td>3</td>\n",
       "      <td>5</td>\n",
       "      <td>2</td>\n",
       "      <td>8</td>\n",
       "      <td>27</td>\n",
       "    </tr>\n",
       "    <tr>\n",
       "      <th>5</th>\n",
       "      <td>CTR_006</td>\n",
       "      <td>63</td>\n",
       "      <td>Masculino</td>\n",
       "      <td>5</td>\n",
       "      <td>5</td>\n",
       "      <td>5</td>\n",
       "      <td>3</td>\n",
       "      <td>5</td>\n",
       "      <td>2</td>\n",
       "      <td>9</td>\n",
       "      <td>29</td>\n",
       "    </tr>\n",
       "    <tr>\n",
       "      <th>6</th>\n",
       "      <td>CTR_007</td>\n",
       "      <td>48</td>\n",
       "      <td>Femenino</td>\n",
       "      <td>11</td>\n",
       "      <td>5</td>\n",
       "      <td>5</td>\n",
       "      <td>3</td>\n",
       "      <td>4</td>\n",
       "      <td>2</td>\n",
       "      <td>9</td>\n",
       "      <td>28</td>\n",
       "    </tr>\n",
       "    <tr>\n",
       "      <th>7</th>\n",
       "      <td>CTR_008</td>\n",
       "      <td>55</td>\n",
       "      <td>Masculino</td>\n",
       "      <td>14</td>\n",
       "      <td>5</td>\n",
       "      <td>5</td>\n",
       "      <td>3</td>\n",
       "      <td>5</td>\n",
       "      <td>2</td>\n",
       "      <td>9</td>\n",
       "      <td>29</td>\n",
       "    </tr>\n",
       "    <tr>\n",
       "      <th>8</th>\n",
       "      <td>CTR_009</td>\n",
       "      <td>39</td>\n",
       "      <td>Femenino</td>\n",
       "      <td>16</td>\n",
       "      <td>5</td>\n",
       "      <td>5</td>\n",
       "      <td>3</td>\n",
       "      <td>5</td>\n",
       "      <td>3</td>\n",
       "      <td>9</td>\n",
       "      <td>30</td>\n",
       "    </tr>\n",
       "    <tr>\n",
       "      <th>9</th>\n",
       "      <td>CTR_010</td>\n",
       "      <td>49</td>\n",
       "      <td>Masculino</td>\n",
       "      <td>13</td>\n",
       "      <td>5</td>\n",
       "      <td>5</td>\n",
       "      <td>3</td>\n",
       "      <td>5</td>\n",
       "      <td>3</td>\n",
       "      <td>9</td>\n",
       "      <td>30</td>\n",
       "    </tr>\n",
       "    <tr>\n",
       "      <th>10</th>\n",
       "      <td>CTR_011</td>\n",
       "      <td>56</td>\n",
       "      <td>Masculino</td>\n",
       "      <td>6</td>\n",
       "      <td>5</td>\n",
       "      <td>3</td>\n",
       "      <td>3</td>\n",
       "      <td>4</td>\n",
       "      <td>2</td>\n",
       "      <td>8</td>\n",
       "      <td>25</td>\n",
       "    </tr>\n",
       "    <tr>\n",
       "      <th>11</th>\n",
       "      <td>CTR_012</td>\n",
       "      <td>62</td>\n",
       "      <td>Masculino</td>\n",
       "      <td>4</td>\n",
       "      <td>5</td>\n",
       "      <td>5</td>\n",
       "      <td>3</td>\n",
       "      <td>0</td>\n",
       "      <td>3</td>\n",
       "      <td>9</td>\n",
       "      <td>25</td>\n",
       "    </tr>\n",
       "    <tr>\n",
       "      <th>12</th>\n",
       "      <td>CTR_013</td>\n",
       "      <td>40</td>\n",
       "      <td>Femenino</td>\n",
       "      <td>11</td>\n",
       "      <td>5</td>\n",
       "      <td>5</td>\n",
       "      <td>3</td>\n",
       "      <td>5</td>\n",
       "      <td>3</td>\n",
       "      <td>9</td>\n",
       "      <td>30</td>\n",
       "    </tr>\n",
       "    <tr>\n",
       "      <th>13</th>\n",
       "      <td>CTR_014</td>\n",
       "      <td>53</td>\n",
       "      <td>Masculino</td>\n",
       "      <td>11</td>\n",
       "      <td>5</td>\n",
       "      <td>5</td>\n",
       "      <td>3</td>\n",
       "      <td>4</td>\n",
       "      <td>0</td>\n",
       "      <td>9</td>\n",
       "      <td>26</td>\n",
       "    </tr>\n",
       "    <tr>\n",
       "      <th>14</th>\n",
       "      <td>CTR_015</td>\n",
       "      <td>43</td>\n",
       "      <td>Femenino</td>\n",
       "      <td>4</td>\n",
       "      <td>5</td>\n",
       "      <td>5</td>\n",
       "      <td>3</td>\n",
       "      <td>3</td>\n",
       "      <td>3</td>\n",
       "      <td>8</td>\n",
       "      <td>27</td>\n",
       "    </tr>\n",
       "    <tr>\n",
       "      <th>15</th>\n",
       "      <td>CTR_016</td>\n",
       "      <td>64</td>\n",
       "      <td>Femenino</td>\n",
       "      <td>7</td>\n",
       "      <td>5</td>\n",
       "      <td>4</td>\n",
       "      <td>3</td>\n",
       "      <td>3</td>\n",
       "      <td>3</td>\n",
       "      <td>9</td>\n",
       "      <td>27</td>\n",
       "    </tr>\n",
       "    <tr>\n",
       "      <th>16</th>\n",
       "      <td>CTR_017</td>\n",
       "      <td>45</td>\n",
       "      <td>Masculino</td>\n",
       "      <td>9</td>\n",
       "      <td>5</td>\n",
       "      <td>5</td>\n",
       "      <td>3</td>\n",
       "      <td>4</td>\n",
       "      <td>3</td>\n",
       "      <td>9</td>\n",
       "      <td>29</td>\n",
       "    </tr>\n",
       "    <tr>\n",
       "      <th>17</th>\n",
       "      <td>CTR_018</td>\n",
       "      <td>60</td>\n",
       "      <td>Femenino</td>\n",
       "      <td>6</td>\n",
       "      <td>4</td>\n",
       "      <td>5</td>\n",
       "      <td>3</td>\n",
       "      <td>5</td>\n",
       "      <td>3</td>\n",
       "      <td>9</td>\n",
       "      <td>29</td>\n",
       "    </tr>\n",
       "    <tr>\n",
       "      <th>18</th>\n",
       "      <td>CTR_019</td>\n",
       "      <td>50</td>\n",
       "      <td>Femenino</td>\n",
       "      <td>3</td>\n",
       "      <td>5</td>\n",
       "      <td>5</td>\n",
       "      <td>3</td>\n",
       "      <td>5</td>\n",
       "      <td>3</td>\n",
       "      <td>9</td>\n",
       "      <td>30</td>\n",
       "    </tr>\n",
       "    <tr>\n",
       "      <th>19</th>\n",
       "      <td>CTR_020</td>\n",
       "      <td>45</td>\n",
       "      <td>Femenino</td>\n",
       "      <td>11</td>\n",
       "      <td>5</td>\n",
       "      <td>5</td>\n",
       "      <td>3</td>\n",
       "      <td>5</td>\n",
       "      <td>3</td>\n",
       "      <td>9</td>\n",
       "      <td>30</td>\n",
       "    </tr>\n",
       "    <tr>\n",
       "      <th>20</th>\n",
       "      <td>CTR_021</td>\n",
       "      <td>44</td>\n",
       "      <td>Masculino</td>\n",
       "      <td>12</td>\n",
       "      <td>5</td>\n",
       "      <td>5</td>\n",
       "      <td>3</td>\n",
       "      <td>5</td>\n",
       "      <td>2</td>\n",
       "      <td>9</td>\n",
       "      <td>29</td>\n",
       "    </tr>\n",
       "    <tr>\n",
       "      <th>21</th>\n",
       "      <td>CTR_022</td>\n",
       "      <td>40</td>\n",
       "      <td>Masculino</td>\n",
       "      <td>2</td>\n",
       "      <td>5</td>\n",
       "      <td>5</td>\n",
       "      <td>3</td>\n",
       "      <td>3</td>\n",
       "      <td>3</td>\n",
       "      <td>9</td>\n",
       "      <td>28</td>\n",
       "    </tr>\n",
       "    <tr>\n",
       "      <th>22</th>\n",
       "      <td>CTR_023</td>\n",
       "      <td>49</td>\n",
       "      <td>Masculino</td>\n",
       "      <td>12</td>\n",
       "      <td>5</td>\n",
       "      <td>5</td>\n",
       "      <td>3</td>\n",
       "      <td>5</td>\n",
       "      <td>3</td>\n",
       "      <td>9</td>\n",
       "      <td>30</td>\n",
       "    </tr>\n",
       "  </tbody>\n",
       "</table>\n",
       "</div>"
      ],
      "text/plain": [
       "     Codigo  Edad en la visita       Sexo  Escolaridad  Orientacion y Tiempo  \\\n",
       "0   CTR_001                 56   Femenino            6                     5   \n",
       "1   CTR_002                 53   Femenino            3                     5   \n",
       "2   CTR_003                 56  Masculino           16                     5   \n",
       "3   CTR_004                 47   Femenino           11                     5   \n",
       "4   CTR_005                 60   Femenino            5                     4   \n",
       "5   CTR_006                 63  Masculino            5                     5   \n",
       "6   CTR_007                 48   Femenino           11                     5   \n",
       "7   CTR_008                 55  Masculino           14                     5   \n",
       "8   CTR_009                 39   Femenino           16                     5   \n",
       "9   CTR_010                 49  Masculino           13                     5   \n",
       "10  CTR_011                 56  Masculino            6                     5   \n",
       "11  CTR_012                 62  Masculino            4                     5   \n",
       "12  CTR_013                 40   Femenino           11                     5   \n",
       "13  CTR_014                 53  Masculino           11                     5   \n",
       "14  CTR_015                 43   Femenino            4                     5   \n",
       "15  CTR_016                 64   Femenino            7                     5   \n",
       "16  CTR_017                 45  Masculino            9                     5   \n",
       "17  CTR_018                 60   Femenino            6                     4   \n",
       "18  CTR_019                 50   Femenino            3                     5   \n",
       "19  CTR_020                 45   Femenino           11                     5   \n",
       "20  CTR_021                 44  Masculino           12                     5   \n",
       "21  CTR_022                 40  Masculino            2                     5   \n",
       "22  CTR_023                 49  Masculino           12                     5   \n",
       "\n",
       "    Orientacion y Lugar  Memoria de fijacion  Atencion  Memoria de Evocacion  \\\n",
       "0                     4                    3         4                     2   \n",
       "1                     5                    3         5                     3   \n",
       "2                     5                    3         5                     3   \n",
       "3                     5                    3         3                     3   \n",
       "4                     5                    3         5                     2   \n",
       "5                     5                    3         5                     2   \n",
       "6                     5                    3         4                     2   \n",
       "7                     5                    3         5                     2   \n",
       "8                     5                    3         5                     3   \n",
       "9                     5                    3         5                     3   \n",
       "10                    3                    3         4                     2   \n",
       "11                    5                    3         0                     3   \n",
       "12                    5                    3         5                     3   \n",
       "13                    5                    3         4                     0   \n",
       "14                    5                    3         3                     3   \n",
       "15                    4                    3         3                     3   \n",
       "16                    5                    3         4                     3   \n",
       "17                    5                    3         5                     3   \n",
       "18                    5                    3         5                     3   \n",
       "19                    5                    3         5                     3   \n",
       "20                    5                    3         5                     2   \n",
       "21                    5                    3         3                     3   \n",
       "22                    5                    3         5                     3   \n",
       "\n",
       "    Lenguaje  Total  \n",
       "0          9     27  \n",
       "1          9     30  \n",
       "2          8     29  \n",
       "3          8     27  \n",
       "4          8     27  \n",
       "5          9     29  \n",
       "6          9     28  \n",
       "7          9     29  \n",
       "8          9     30  \n",
       "9          9     30  \n",
       "10         8     25  \n",
       "11         9     25  \n",
       "12         9     30  \n",
       "13         9     26  \n",
       "14         8     27  \n",
       "15         9     27  \n",
       "16         9     29  \n",
       "17         9     29  \n",
       "18         9     30  \n",
       "19         9     30  \n",
       "20         9     29  \n",
       "21         9     28  \n",
       "22         9     30  "
      ]
     },
     "execution_count": 34,
     "metadata": {},
     "output_type": "execute_result"
    }
   ],
   "source": [
    "mmse_copy"
   ]
  },
  {
   "cell_type": "code",
   "execution_count": 35,
   "metadata": {},
   "outputs": [],
   "source": [
    "mmse_copy=mmse_copy.assign(falseIndex=np.random.rand(23))"
   ]
  },
  {
   "cell_type": "code",
   "execution_count": 36,
   "metadata": {},
   "outputs": [],
   "source": [
    "mmse_copy=mmse_copy.set_index('falseIndex')"
   ]
  },
  {
   "cell_type": "code",
   "execution_count": 37,
   "metadata": {},
   "outputs": [
    {
     "data": {
      "text/html": [
       "<div>\n",
       "<style scoped>\n",
       "    .dataframe tbody tr th:only-of-type {\n",
       "        vertical-align: middle;\n",
       "    }\n",
       "\n",
       "    .dataframe tbody tr th {\n",
       "        vertical-align: top;\n",
       "    }\n",
       "\n",
       "    .dataframe thead th {\n",
       "        text-align: right;\n",
       "    }\n",
       "</style>\n",
       "<table border=\"1\" class=\"dataframe\">\n",
       "  <thead>\n",
       "    <tr style=\"text-align: right;\">\n",
       "      <th></th>\n",
       "      <th>Codigo</th>\n",
       "      <th>Edad en la visita</th>\n",
       "      <th>Sexo</th>\n",
       "      <th>Escolaridad</th>\n",
       "      <th>Orientacion y Tiempo</th>\n",
       "      <th>Orientacion y Lugar</th>\n",
       "      <th>Memoria de fijacion</th>\n",
       "      <th>Atencion</th>\n",
       "      <th>Memoria de Evocacion</th>\n",
       "      <th>Lenguaje</th>\n",
       "      <th>Total</th>\n",
       "    </tr>\n",
       "    <tr>\n",
       "      <th>falseIndex</th>\n",
       "      <th></th>\n",
       "      <th></th>\n",
       "      <th></th>\n",
       "      <th></th>\n",
       "      <th></th>\n",
       "      <th></th>\n",
       "      <th></th>\n",
       "      <th></th>\n",
       "      <th></th>\n",
       "      <th></th>\n",
       "      <th></th>\n",
       "    </tr>\n",
       "  </thead>\n",
       "  <tbody>\n",
       "    <tr>\n",
       "      <th>0.473955</th>\n",
       "      <td>CTR_001</td>\n",
       "      <td>56</td>\n",
       "      <td>Femenino</td>\n",
       "      <td>6</td>\n",
       "      <td>5</td>\n",
       "      <td>4</td>\n",
       "      <td>3</td>\n",
       "      <td>4</td>\n",
       "      <td>2</td>\n",
       "      <td>9</td>\n",
       "      <td>27</td>\n",
       "    </tr>\n",
       "    <tr>\n",
       "      <th>0.060618</th>\n",
       "      <td>CTR_002</td>\n",
       "      <td>53</td>\n",
       "      <td>Femenino</td>\n",
       "      <td>3</td>\n",
       "      <td>5</td>\n",
       "      <td>5</td>\n",
       "      <td>3</td>\n",
       "      <td>5</td>\n",
       "      <td>3</td>\n",
       "      <td>9</td>\n",
       "      <td>30</td>\n",
       "    </tr>\n",
       "    <tr>\n",
       "      <th>0.806858</th>\n",
       "      <td>CTR_003</td>\n",
       "      <td>56</td>\n",
       "      <td>Masculino</td>\n",
       "      <td>16</td>\n",
       "      <td>5</td>\n",
       "      <td>5</td>\n",
       "      <td>3</td>\n",
       "      <td>5</td>\n",
       "      <td>3</td>\n",
       "      <td>8</td>\n",
       "      <td>29</td>\n",
       "    </tr>\n",
       "    <tr>\n",
       "      <th>0.931105</th>\n",
       "      <td>CTR_004</td>\n",
       "      <td>47</td>\n",
       "      <td>Femenino</td>\n",
       "      <td>11</td>\n",
       "      <td>5</td>\n",
       "      <td>5</td>\n",
       "      <td>3</td>\n",
       "      <td>3</td>\n",
       "      <td>3</td>\n",
       "      <td>8</td>\n",
       "      <td>27</td>\n",
       "    </tr>\n",
       "    <tr>\n",
       "      <th>0.062564</th>\n",
       "      <td>CTR_005</td>\n",
       "      <td>60</td>\n",
       "      <td>Femenino</td>\n",
       "      <td>5</td>\n",
       "      <td>4</td>\n",
       "      <td>5</td>\n",
       "      <td>3</td>\n",
       "      <td>5</td>\n",
       "      <td>2</td>\n",
       "      <td>8</td>\n",
       "      <td>27</td>\n",
       "    </tr>\n",
       "    <tr>\n",
       "      <th>0.082853</th>\n",
       "      <td>CTR_006</td>\n",
       "      <td>63</td>\n",
       "      <td>Masculino</td>\n",
       "      <td>5</td>\n",
       "      <td>5</td>\n",
       "      <td>5</td>\n",
       "      <td>3</td>\n",
       "      <td>5</td>\n",
       "      <td>2</td>\n",
       "      <td>9</td>\n",
       "      <td>29</td>\n",
       "    </tr>\n",
       "    <tr>\n",
       "      <th>0.818625</th>\n",
       "      <td>CTR_007</td>\n",
       "      <td>48</td>\n",
       "      <td>Femenino</td>\n",
       "      <td>11</td>\n",
       "      <td>5</td>\n",
       "      <td>5</td>\n",
       "      <td>3</td>\n",
       "      <td>4</td>\n",
       "      <td>2</td>\n",
       "      <td>9</td>\n",
       "      <td>28</td>\n",
       "    </tr>\n",
       "    <tr>\n",
       "      <th>0.706597</th>\n",
       "      <td>CTR_008</td>\n",
       "      <td>55</td>\n",
       "      <td>Masculino</td>\n",
       "      <td>14</td>\n",
       "      <td>5</td>\n",
       "      <td>5</td>\n",
       "      <td>3</td>\n",
       "      <td>5</td>\n",
       "      <td>2</td>\n",
       "      <td>9</td>\n",
       "      <td>29</td>\n",
       "    </tr>\n",
       "    <tr>\n",
       "      <th>0.897509</th>\n",
       "      <td>CTR_009</td>\n",
       "      <td>39</td>\n",
       "      <td>Femenino</td>\n",
       "      <td>16</td>\n",
       "      <td>5</td>\n",
       "      <td>5</td>\n",
       "      <td>3</td>\n",
       "      <td>5</td>\n",
       "      <td>3</td>\n",
       "      <td>9</td>\n",
       "      <td>30</td>\n",
       "    </tr>\n",
       "    <tr>\n",
       "      <th>0.038218</th>\n",
       "      <td>CTR_010</td>\n",
       "      <td>49</td>\n",
       "      <td>Masculino</td>\n",
       "      <td>13</td>\n",
       "      <td>5</td>\n",
       "      <td>5</td>\n",
       "      <td>3</td>\n",
       "      <td>5</td>\n",
       "      <td>3</td>\n",
       "      <td>9</td>\n",
       "      <td>30</td>\n",
       "    </tr>\n",
       "    <tr>\n",
       "      <th>0.824070</th>\n",
       "      <td>CTR_011</td>\n",
       "      <td>56</td>\n",
       "      <td>Masculino</td>\n",
       "      <td>6</td>\n",
       "      <td>5</td>\n",
       "      <td>3</td>\n",
       "      <td>3</td>\n",
       "      <td>4</td>\n",
       "      <td>2</td>\n",
       "      <td>8</td>\n",
       "      <td>25</td>\n",
       "    </tr>\n",
       "    <tr>\n",
       "      <th>0.154794</th>\n",
       "      <td>CTR_012</td>\n",
       "      <td>62</td>\n",
       "      <td>Masculino</td>\n",
       "      <td>4</td>\n",
       "      <td>5</td>\n",
       "      <td>5</td>\n",
       "      <td>3</td>\n",
       "      <td>0</td>\n",
       "      <td>3</td>\n",
       "      <td>9</td>\n",
       "      <td>25</td>\n",
       "    </tr>\n",
       "    <tr>\n",
       "      <th>0.584452</th>\n",
       "      <td>CTR_013</td>\n",
       "      <td>40</td>\n",
       "      <td>Femenino</td>\n",
       "      <td>11</td>\n",
       "      <td>5</td>\n",
       "      <td>5</td>\n",
       "      <td>3</td>\n",
       "      <td>5</td>\n",
       "      <td>3</td>\n",
       "      <td>9</td>\n",
       "      <td>30</td>\n",
       "    </tr>\n",
       "    <tr>\n",
       "      <th>0.215129</th>\n",
       "      <td>CTR_014</td>\n",
       "      <td>53</td>\n",
       "      <td>Masculino</td>\n",
       "      <td>11</td>\n",
       "      <td>5</td>\n",
       "      <td>5</td>\n",
       "      <td>3</td>\n",
       "      <td>4</td>\n",
       "      <td>0</td>\n",
       "      <td>9</td>\n",
       "      <td>26</td>\n",
       "    </tr>\n",
       "    <tr>\n",
       "      <th>0.230106</th>\n",
       "      <td>CTR_015</td>\n",
       "      <td>43</td>\n",
       "      <td>Femenino</td>\n",
       "      <td>4</td>\n",
       "      <td>5</td>\n",
       "      <td>5</td>\n",
       "      <td>3</td>\n",
       "      <td>3</td>\n",
       "      <td>3</td>\n",
       "      <td>8</td>\n",
       "      <td>27</td>\n",
       "    </tr>\n",
       "    <tr>\n",
       "      <th>0.021708</th>\n",
       "      <td>CTR_016</td>\n",
       "      <td>64</td>\n",
       "      <td>Femenino</td>\n",
       "      <td>7</td>\n",
       "      <td>5</td>\n",
       "      <td>4</td>\n",
       "      <td>3</td>\n",
       "      <td>3</td>\n",
       "      <td>3</td>\n",
       "      <td>9</td>\n",
       "      <td>27</td>\n",
       "    </tr>\n",
       "    <tr>\n",
       "      <th>0.470138</th>\n",
       "      <td>CTR_017</td>\n",
       "      <td>45</td>\n",
       "      <td>Masculino</td>\n",
       "      <td>9</td>\n",
       "      <td>5</td>\n",
       "      <td>5</td>\n",
       "      <td>3</td>\n",
       "      <td>4</td>\n",
       "      <td>3</td>\n",
       "      <td>9</td>\n",
       "      <td>29</td>\n",
       "    </tr>\n",
       "    <tr>\n",
       "      <th>0.136874</th>\n",
       "      <td>CTR_018</td>\n",
       "      <td>60</td>\n",
       "      <td>Femenino</td>\n",
       "      <td>6</td>\n",
       "      <td>4</td>\n",
       "      <td>5</td>\n",
       "      <td>3</td>\n",
       "      <td>5</td>\n",
       "      <td>3</td>\n",
       "      <td>9</td>\n",
       "      <td>29</td>\n",
       "    </tr>\n",
       "    <tr>\n",
       "      <th>0.682859</th>\n",
       "      <td>CTR_019</td>\n",
       "      <td>50</td>\n",
       "      <td>Femenino</td>\n",
       "      <td>3</td>\n",
       "      <td>5</td>\n",
       "      <td>5</td>\n",
       "      <td>3</td>\n",
       "      <td>5</td>\n",
       "      <td>3</td>\n",
       "      <td>9</td>\n",
       "      <td>30</td>\n",
       "    </tr>\n",
       "    <tr>\n",
       "      <th>0.545328</th>\n",
       "      <td>CTR_020</td>\n",
       "      <td>45</td>\n",
       "      <td>Femenino</td>\n",
       "      <td>11</td>\n",
       "      <td>5</td>\n",
       "      <td>5</td>\n",
       "      <td>3</td>\n",
       "      <td>5</td>\n",
       "      <td>3</td>\n",
       "      <td>9</td>\n",
       "      <td>30</td>\n",
       "    </tr>\n",
       "    <tr>\n",
       "      <th>0.759180</th>\n",
       "      <td>CTR_021</td>\n",
       "      <td>44</td>\n",
       "      <td>Masculino</td>\n",
       "      <td>12</td>\n",
       "      <td>5</td>\n",
       "      <td>5</td>\n",
       "      <td>3</td>\n",
       "      <td>5</td>\n",
       "      <td>2</td>\n",
       "      <td>9</td>\n",
       "      <td>29</td>\n",
       "    </tr>\n",
       "    <tr>\n",
       "      <th>0.580300</th>\n",
       "      <td>CTR_022</td>\n",
       "      <td>40</td>\n",
       "      <td>Masculino</td>\n",
       "      <td>2</td>\n",
       "      <td>5</td>\n",
       "      <td>5</td>\n",
       "      <td>3</td>\n",
       "      <td>3</td>\n",
       "      <td>3</td>\n",
       "      <td>9</td>\n",
       "      <td>28</td>\n",
       "    </tr>\n",
       "    <tr>\n",
       "      <th>0.275598</th>\n",
       "      <td>CTR_023</td>\n",
       "      <td>49</td>\n",
       "      <td>Masculino</td>\n",
       "      <td>12</td>\n",
       "      <td>5</td>\n",
       "      <td>5</td>\n",
       "      <td>3</td>\n",
       "      <td>5</td>\n",
       "      <td>3</td>\n",
       "      <td>9</td>\n",
       "      <td>30</td>\n",
       "    </tr>\n",
       "  </tbody>\n",
       "</table>\n",
       "</div>"
      ],
      "text/plain": [
       "             Codigo  Edad en la visita       Sexo  Escolaridad  \\\n",
       "falseIndex                                                       \n",
       "0.473955    CTR_001                 56   Femenino            6   \n",
       "0.060618    CTR_002                 53   Femenino            3   \n",
       "0.806858    CTR_003                 56  Masculino           16   \n",
       "0.931105    CTR_004                 47   Femenino           11   \n",
       "0.062564    CTR_005                 60   Femenino            5   \n",
       "0.082853    CTR_006                 63  Masculino            5   \n",
       "0.818625    CTR_007                 48   Femenino           11   \n",
       "0.706597    CTR_008                 55  Masculino           14   \n",
       "0.897509    CTR_009                 39   Femenino           16   \n",
       "0.038218    CTR_010                 49  Masculino           13   \n",
       "0.824070    CTR_011                 56  Masculino            6   \n",
       "0.154794    CTR_012                 62  Masculino            4   \n",
       "0.584452    CTR_013                 40   Femenino           11   \n",
       "0.215129    CTR_014                 53  Masculino           11   \n",
       "0.230106    CTR_015                 43   Femenino            4   \n",
       "0.021708    CTR_016                 64   Femenino            7   \n",
       "0.470138    CTR_017                 45  Masculino            9   \n",
       "0.136874    CTR_018                 60   Femenino            6   \n",
       "0.682859    CTR_019                 50   Femenino            3   \n",
       "0.545328    CTR_020                 45   Femenino           11   \n",
       "0.759180    CTR_021                 44  Masculino           12   \n",
       "0.580300    CTR_022                 40  Masculino            2   \n",
       "0.275598    CTR_023                 49  Masculino           12   \n",
       "\n",
       "            Orientacion y Tiempo  Orientacion y Lugar  Memoria de fijacion  \\\n",
       "falseIndex                                                                   \n",
       "0.473955                       5                    4                    3   \n",
       "0.060618                       5                    5                    3   \n",
       "0.806858                       5                    5                    3   \n",
       "0.931105                       5                    5                    3   \n",
       "0.062564                       4                    5                    3   \n",
       "0.082853                       5                    5                    3   \n",
       "0.818625                       5                    5                    3   \n",
       "0.706597                       5                    5                    3   \n",
       "0.897509                       5                    5                    3   \n",
       "0.038218                       5                    5                    3   \n",
       "0.824070                       5                    3                    3   \n",
       "0.154794                       5                    5                    3   \n",
       "0.584452                       5                    5                    3   \n",
       "0.215129                       5                    5                    3   \n",
       "0.230106                       5                    5                    3   \n",
       "0.021708                       5                    4                    3   \n",
       "0.470138                       5                    5                    3   \n",
       "0.136874                       4                    5                    3   \n",
       "0.682859                       5                    5                    3   \n",
       "0.545328                       5                    5                    3   \n",
       "0.759180                       5                    5                    3   \n",
       "0.580300                       5                    5                    3   \n",
       "0.275598                       5                    5                    3   \n",
       "\n",
       "            Atencion  Memoria de Evocacion  Lenguaje  Total  \n",
       "falseIndex                                                   \n",
       "0.473955           4                     2         9     27  \n",
       "0.060618           5                     3         9     30  \n",
       "0.806858           5                     3         8     29  \n",
       "0.931105           3                     3         8     27  \n",
       "0.062564           5                     2         8     27  \n",
       "0.082853           5                     2         9     29  \n",
       "0.818625           4                     2         9     28  \n",
       "0.706597           5                     2         9     29  \n",
       "0.897509           5                     3         9     30  \n",
       "0.038218           5                     3         9     30  \n",
       "0.824070           4                     2         8     25  \n",
       "0.154794           0                     3         9     25  \n",
       "0.584452           5                     3         9     30  \n",
       "0.215129           4                     0         9     26  \n",
       "0.230106           3                     3         8     27  \n",
       "0.021708           3                     3         9     27  \n",
       "0.470138           4                     3         9     29  \n",
       "0.136874           5                     3         9     29  \n",
       "0.682859           5                     3         9     30  \n",
       "0.545328           5                     3         9     30  \n",
       "0.759180           5                     2         9     29  \n",
       "0.580300           3                     3         9     28  \n",
       "0.275598           5                     3         9     30  "
      ]
     },
     "execution_count": 37,
     "metadata": {},
     "output_type": "execute_result"
    }
   ],
   "source": [
    "mmse_copy"
   ]
  },
  {
   "cell_type": "code",
   "execution_count": 38,
   "metadata": {},
   "outputs": [
    {
     "data": {
      "text/plain": [
       "Float64Index([   0.473954802636511, 0.060617537646888375,   0.8068581429602842,\n",
       "                0.9311047625554614,  0.06256361209229144,  0.08285284781352176,\n",
       "                0.8186249983360822,   0.7065966492235027,   0.8975089739976176,\n",
       "              0.038217777686673116,   0.8240699609161966,   0.1547943945068858,\n",
       "                0.5844516838799445,  0.21512871770703423,   0.2301060971226333,\n",
       "                0.0217076930422323,   0.4701378468218814,  0.13687389770036662,\n",
       "                0.6828593989392604,   0.5453281336972293,   0.7591802178001779,\n",
       "                0.5802997063142621,   0.2755978669865585],\n",
       "             dtype='float64', name='falseIndex')"
      ]
     },
     "execution_count": 38,
     "metadata": {},
     "output_type": "execute_result"
    }
   ],
   "source": [
    "mmse_copy.index"
   ]
  },
  {
   "cell_type": "code",
   "execution_count": 39,
   "metadata": {},
   "outputs": [],
   "source": [
    "#mmse_copy.loc[0.06126563024000453]"
   ]
  },
  {
   "cell_type": "code",
   "execution_count": 40,
   "metadata": {},
   "outputs": [],
   "source": [
    "mmse_edad = mmse[(mmse['Edad en la visita'] >= 40)]\n",
    "mmse_edad = mmse_edad[(mmse_edad['Edad en la visita'] <= 50)]"
   ]
  },
  {
   "cell_type": "code",
   "execution_count": 41,
   "metadata": {},
   "outputs": [],
   "source": [
    "mmse_escolaridad = mmse_edad[(mmse_edad['Escolaridad'] >= 11)]"
   ]
  },
  {
   "cell_type": "code",
   "execution_count": 42,
   "metadata": {},
   "outputs": [
    {
     "data": {
      "text/plain": [
       "(23, 11)"
      ]
     },
     "execution_count": 42,
     "metadata": {},
     "output_type": "execute_result"
    }
   ],
   "source": [
    "mmse.shape"
   ]
  },
  {
   "cell_type": "code",
   "execution_count": 43,
   "metadata": {},
   "outputs": [
    {
     "data": {
      "text/plain": [
       "(11, 11)"
      ]
     },
     "execution_count": 43,
     "metadata": {},
     "output_type": "execute_result"
    }
   ],
   "source": [
    "mmse_edad.shape"
   ]
  },
  {
   "cell_type": "code",
   "execution_count": 44,
   "metadata": {},
   "outputs": [
    {
     "data": {
      "text/plain": [
       "(7, 11)"
      ]
     },
     "execution_count": 44,
     "metadata": {},
     "output_type": "execute_result"
    }
   ],
   "source": [
    "mmse_escolaridad.shape"
   ]
  },
  {
   "cell_type": "code",
   "execution_count": 45,
   "metadata": {},
   "outputs": [
    {
     "data": {
      "text/html": [
       "<div>\n",
       "<style scoped>\n",
       "    .dataframe tbody tr th:only-of-type {\n",
       "        vertical-align: middle;\n",
       "    }\n",
       "\n",
       "    .dataframe tbody tr th {\n",
       "        vertical-align: top;\n",
       "    }\n",
       "\n",
       "    .dataframe thead th {\n",
       "        text-align: right;\n",
       "    }\n",
       "</style>\n",
       "<table border=\"1\" class=\"dataframe\">\n",
       "  <thead>\n",
       "    <tr style=\"text-align: right;\">\n",
       "      <th></th>\n",
       "      <th>Codigo</th>\n",
       "      <th>Edad en la visita</th>\n",
       "      <th>Sexo</th>\n",
       "      <th>Escolaridad</th>\n",
       "      <th>Orientacion y Tiempo</th>\n",
       "      <th>Orientacion y Lugar</th>\n",
       "      <th>Memoria de fijacion</th>\n",
       "      <th>Atencion</th>\n",
       "      <th>Memoria de Evocacion</th>\n",
       "      <th>Lenguaje</th>\n",
       "      <th>Total</th>\n",
       "    </tr>\n",
       "  </thead>\n",
       "  <tbody>\n",
       "    <tr>\n",
       "      <th>3</th>\n",
       "      <td>CTR_004</td>\n",
       "      <td>47</td>\n",
       "      <td>Femenino</td>\n",
       "      <td>11</td>\n",
       "      <td>5</td>\n",
       "      <td>5</td>\n",
       "      <td>3</td>\n",
       "      <td>3</td>\n",
       "      <td>3</td>\n",
       "      <td>8</td>\n",
       "      <td>27</td>\n",
       "    </tr>\n",
       "    <tr>\n",
       "      <th>6</th>\n",
       "      <td>CTR_007</td>\n",
       "      <td>48</td>\n",
       "      <td>Femenino</td>\n",
       "      <td>11</td>\n",
       "      <td>5</td>\n",
       "      <td>5</td>\n",
       "      <td>3</td>\n",
       "      <td>4</td>\n",
       "      <td>2</td>\n",
       "      <td>9</td>\n",
       "      <td>28</td>\n",
       "    </tr>\n",
       "    <tr>\n",
       "      <th>9</th>\n",
       "      <td>CTR_010</td>\n",
       "      <td>49</td>\n",
       "      <td>Masculino</td>\n",
       "      <td>13</td>\n",
       "      <td>5</td>\n",
       "      <td>5</td>\n",
       "      <td>3</td>\n",
       "      <td>5</td>\n",
       "      <td>3</td>\n",
       "      <td>9</td>\n",
       "      <td>30</td>\n",
       "    </tr>\n",
       "    <tr>\n",
       "      <th>12</th>\n",
       "      <td>CTR_013</td>\n",
       "      <td>40</td>\n",
       "      <td>Femenino</td>\n",
       "      <td>11</td>\n",
       "      <td>5</td>\n",
       "      <td>5</td>\n",
       "      <td>3</td>\n",
       "      <td>5</td>\n",
       "      <td>3</td>\n",
       "      <td>9</td>\n",
       "      <td>30</td>\n",
       "    </tr>\n",
       "    <tr>\n",
       "      <th>19</th>\n",
       "      <td>CTR_020</td>\n",
       "      <td>45</td>\n",
       "      <td>Femenino</td>\n",
       "      <td>11</td>\n",
       "      <td>5</td>\n",
       "      <td>5</td>\n",
       "      <td>3</td>\n",
       "      <td>5</td>\n",
       "      <td>3</td>\n",
       "      <td>9</td>\n",
       "      <td>30</td>\n",
       "    </tr>\n",
       "    <tr>\n",
       "      <th>20</th>\n",
       "      <td>CTR_021</td>\n",
       "      <td>44</td>\n",
       "      <td>Masculino</td>\n",
       "      <td>12</td>\n",
       "      <td>5</td>\n",
       "      <td>5</td>\n",
       "      <td>3</td>\n",
       "      <td>5</td>\n",
       "      <td>2</td>\n",
       "      <td>9</td>\n",
       "      <td>29</td>\n",
       "    </tr>\n",
       "    <tr>\n",
       "      <th>22</th>\n",
       "      <td>CTR_023</td>\n",
       "      <td>49</td>\n",
       "      <td>Masculino</td>\n",
       "      <td>12</td>\n",
       "      <td>5</td>\n",
       "      <td>5</td>\n",
       "      <td>3</td>\n",
       "      <td>5</td>\n",
       "      <td>3</td>\n",
       "      <td>9</td>\n",
       "      <td>30</td>\n",
       "    </tr>\n",
       "  </tbody>\n",
       "</table>\n",
       "</div>"
      ],
      "text/plain": [
       "     Codigo  Edad en la visita       Sexo  Escolaridad  Orientacion y Tiempo  \\\n",
       "3   CTR_004                 47   Femenino           11                     5   \n",
       "6   CTR_007                 48   Femenino           11                     5   \n",
       "9   CTR_010                 49  Masculino           13                     5   \n",
       "12  CTR_013                 40   Femenino           11                     5   \n",
       "19  CTR_020                 45   Femenino           11                     5   \n",
       "20  CTR_021                 44  Masculino           12                     5   \n",
       "22  CTR_023                 49  Masculino           12                     5   \n",
       "\n",
       "    Orientacion y Lugar  Memoria de fijacion  Atencion  Memoria de Evocacion  \\\n",
       "3                     5                    3         3                     3   \n",
       "6                     5                    3         4                     2   \n",
       "9                     5                    3         5                     3   \n",
       "12                    5                    3         5                     3   \n",
       "19                    5                    3         5                     3   \n",
       "20                    5                    3         5                     2   \n",
       "22                    5                    3         5                     3   \n",
       "\n",
       "    Lenguaje  Total  \n",
       "3          8     27  \n",
       "6          9     28  \n",
       "9          9     30  \n",
       "12         9     30  \n",
       "19         9     30  \n",
       "20         9     29  \n",
       "22         9     30  "
      ]
     },
     "execution_count": 45,
     "metadata": {},
     "output_type": "execute_result"
    }
   ],
   "source": [
    "mmse_escolaridad"
   ]
  },
  {
   "cell_type": "code",
   "execution_count": 46,
   "metadata": {},
   "outputs": [],
   "source": [
    "mmse_where=mmse_escolaridad.where(mmse_escolaridad['Escolaridad'] > 11)"
   ]
  },
  {
   "cell_type": "code",
   "execution_count": 47,
   "metadata": {},
   "outputs": [
    {
     "data": {
      "text/plain": [
       "3      NaN\n",
       "6      NaN\n",
       "9     13.0\n",
       "12     NaN\n",
       "19     NaN\n",
       "20    12.0\n",
       "22    12.0\n",
       "Name: Escolaridad, dtype: float64"
      ]
     },
     "execution_count": 47,
     "metadata": {},
     "output_type": "execute_result"
    }
   ],
   "source": [
    "mmse_where['Escolaridad']"
   ]
  },
  {
   "cell_type": "code",
   "execution_count": 48,
   "metadata": {},
   "outputs": [],
   "source": [
    "mmse_mask = mmse_escolaridad.mask(mmse_escolaridad['Escolaridad'] > 11)"
   ]
  },
  {
   "cell_type": "code",
   "execution_count": 49,
   "metadata": {},
   "outputs": [
    {
     "data": {
      "text/plain": [
       "3     11.0\n",
       "6     11.0\n",
       "9      NaN\n",
       "12    11.0\n",
       "19    11.0\n",
       "20     NaN\n",
       "22     NaN\n",
       "Name: Escolaridad, dtype: float64"
      ]
     },
     "execution_count": 49,
     "metadata": {},
     "output_type": "execute_result"
    }
   ],
   "source": [
    "mmse_mask['Escolaridad']"
   ]
  },
  {
   "cell_type": "code",
   "execution_count": 50,
   "metadata": {},
   "outputs": [
    {
     "data": {
      "text/plain": [
       "16"
      ]
     },
     "execution_count": 50,
     "metadata": {},
     "output_type": "execute_result"
    }
   ],
   "source": [
    "mmse['Escolaridad'].max()"
   ]
  },
  {
   "cell_type": "code",
   "execution_count": 51,
   "metadata": {},
   "outputs": [
    {
     "data": {
      "text/plain": [
       "8.608695652173912"
      ]
     },
     "execution_count": 51,
     "metadata": {},
     "output_type": "execute_result"
    }
   ],
   "source": [
    "mmse['Escolaridad'].mean()"
   ]
  },
  {
   "cell_type": "code",
   "execution_count": 52,
   "metadata": {},
   "outputs": [],
   "source": [
    "import seaborn as sns"
   ]
  },
  {
   "cell_type": "code",
   "execution_count": 53,
   "metadata": {},
   "outputs": [
    {
     "name": "stderr",
     "output_type": "stream",
     "text": [
      "C:\\Users\\veroh\\AppData\\Local\\Packages\\PythonSoftwareFoundation.Python.3.9_qbz5n2kfra8p0\\LocalCache\\local-packages\\Python39\\site-packages\\numpy\\core\\fromnumeric.py:3474: RuntimeWarning: Mean of empty slice.\n",
      "  return _methods._mean(a, axis=axis, dtype=dtype,\n",
      "C:\\Users\\veroh\\AppData\\Local\\Packages\\PythonSoftwareFoundation.Python.3.9_qbz5n2kfra8p0\\LocalCache\\local-packages\\Python39\\site-packages\\numpy\\core\\_methods.py:189: RuntimeWarning: invalid value encountered in double_scalars\n",
      "  ret = ret.dtype.type(ret / rcount)\n"
     ]
    },
    {
     "data": {
      "text/plain": [
       "<AxesSubplot:xlabel='Total', ylabel='Edad en la visita'>"
      ]
     },
     "execution_count": 53,
     "metadata": {},
     "output_type": "execute_result"
    },
    {
     "data": {
      "image/png": "[encoded data removed]",
      "text/plain": [
       "<Figure size 640x480 with 1 Axes>"
      ]
     },
     "metadata": {},
     "output_type": "display_data"
    }
   ],
   "source": [
    "sns.barplot(x='Total', y='Edad en la visita', hue='Sexo', data=mmse, estimator=np.median)"
   ]
  },
  {
   "cell_type": "code",
   "execution_count": 56,
   "metadata": {},
   "outputs": [
    {
     "name": "stderr",
     "output_type": "stream",
     "text": [
      "C:\\Users\\veroh\\AppData\\Local\\Temp\\ipykernel_48136\\3531581910.py:1: UserWarning: \n",
      "\n",
      "`distplot` is a deprecated function and will be removed in seaborn v0.14.0.\n",
      "\n",
      "Please adapt your code to use either `displot` (a figure-level function with\n",
      "similar flexibility) or `histplot` (an axes-level function for histograms).\n",
      "\n",
      "For a guide to updating your code to use the new functions, please see\n",
      "https://gist.github.com/mwaskom/de44147ed2974457ad6372750bbe5751\n",
      "\n",
      "  sns.distplot(mmse['Edad en la visita'])\n"
     ]
    },
    {
     "data": {
      "text/plain": [
       "<AxesSubplot:xlabel='Edad en la visita', ylabel='Density'>"
      ]
     },
     "execution_count": 56,
     "metadata": {},
     "output_type": "execute_result"
    },
    {
     "data": {
      "image/png": "[encoded data removed]",
      "text/plain": [
       "<Figure size 640x480 with 1 Axes>"
      ]
     },
     "metadata": {},
     "output_type": "display_data"
    }
   ],
   "source": [
    "sns.distplot(mmse['Edad en la visita'])"
   ]
  },
  {
   "cell_type": "code",
   "execution_count": 57,
   "metadata": {},
   "outputs": [
    {
     "name": "stderr",
     "output_type": "stream",
     "text": [
      "C:\\Users\\veroh\\AppData\\Local\\Temp\\ipykernel_48136\\633301195.py:1: FutureWarning: \n",
      "\n",
      "`shade` is now deprecated in favor of `fill`; setting `fill=True`.\n",
      "This will become an error in seaborn v0.14.0; please update your code.\n",
      "\n",
      "  sns.kdeplot(data=mmse['Edad en la visita'], shade=True)\n"
     ]
    },
    {
     "data": {
      "text/plain": [
       "<AxesSubplot:xlabel='Edad en la visita', ylabel='Density'>"
      ]
     },
     "execution_count": 57,
     "metadata": {},
     "output_type": "execute_result"
    },
    {
     "data": {
      "image/png": "[encoded data removed]",
      "text/plain": [
       "<Figure size 640x480 with 1 Axes>"
      ]
     },
     "metadata": {},
     "output_type": "display_data"
    }
   ],
   "source": [
    "sns.kdeplot(data=mmse['Edad en la visita'], shade=True)"
   ]
  },
  {
   "cell_type": "code",
   "execution_count": 60,
   "metadata": {},
   "outputs": [
    {
     "data": {
      "text/plain": [
       "<AxesSubplot:xlabel='Total', ylabel='Edad en la visita'>"
      ]
     },
     "execution_count": 60,
     "metadata": {},
     "output_type": "execute_result"
    },
    {
     "data": {
      "image/png": "[encoded data removed]",
      "text/plain": [
       "<Figure size 640x480 with 1 Axes>"
      ]
     },
     "metadata": {},
     "output_type": "display_data"
    }
   ],
   "source": [
    "sns.boxplot(data=mmse, x='Total', y='Edad en la visita', palette=\"rocket\")"
   ]
  },
  {
   "cell_type": "code",
   "execution_count": 62,
   "metadata": {},
   "outputs": [
    {
     "data": {
      "text/plain": [
       "<AxesSubplot:xlabel='Atencion', ylabel='Edad en la visita'>"
      ]
     },
     "execution_count": 62,
     "metadata": {},
     "output_type": "execute_result"
    },
    {
     "data": {
      "image/png": "[encoded data removed]",
      "text/plain": [
       "<Figure size 640x480 with 1 Axes>"
      ]
     },
     "metadata": {},
     "output_type": "display_data"
    }
   ],
   "source": [
    "sns.violinplot(data=mmse, x='Atencion', y='Edad en la visita',palette=\"YlOrBr\")"
   ]
  },
  {
   "cell_type": "code",
   "execution_count": 67,
   "metadata": {},
   "outputs": [
    {
     "data": {
      "text/plain": [
       "<seaborn.axisgrid.FacetGrid at 0x26419c09430>"
      ]
     },
     "execution_count": 67,
     "metadata": {},
     "output_type": "execute_result"
    },
    {
     "data": {
      "image/png": "[encoded data removed]",
      "text/plain": [
       "<Figure size 619.125x500 with 1 Axes>"
      ]
     },
     "metadata": {},
     "output_type": "display_data"
    }
   ],
   "source": [
    "sns.catplot(x='Total', y='Edad en la visita', hue='Sexo', kind=\"swarm\", data=mmse)"
   ]
  }
 ],
 "metadata": {
  "kernelspec": {
   "display_name": "Python 3",
   "language": "python",
   "name": "python3"
  },
  "language_info": {
   "codemirror_mode": {
    "name": "ipython",
    "version": 3
   },
   "file_extension": ".py",
   "mimetype": "text/x-python",
   "name": "python",
   "nbconvert_exporter": "python",
   "pygments_lexer": "ipython3",
   "version": "3.9.13"
  },
  "orig_nbformat": 4
 },
 "nbformat": 4,
 "nbformat_minor": 2
}
